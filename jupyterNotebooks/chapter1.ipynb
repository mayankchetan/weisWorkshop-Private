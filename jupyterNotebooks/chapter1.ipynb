{
 "cells": [
  {
   "cell_type": "markdown",
   "id": "fcf9a651",
   "metadata": {},
   "source": [
    "# ONLY RUN THE NEXT CELL ONCE!"
   ]
  },
  {
   "cell_type": "code",
   "execution_count": 10,
   "id": "0679a464",
   "metadata": {},
   "outputs": [
    {
     "name": "stdout",
     "output_type": "stream",
     "text": [
      "Running in local environment\n"
     ]
    }
   ],
   "source": [
    "\n",
    "from weis_workshop import *\n",
    "\n",
    "if IN_COLAB:\n",
    "    !pip install -q condacolab\n",
    "    import condacolab\n",
    "    condacolab.install() # expect a kernel restart\n",
    "    from google.colab import drive\n",
    "    drive.mount('/content/drive')\n",
    "    !git clone -b weis-workshop  https://github.com/mayankchetan/weis\n",
    "    !mamba env update -n base -f weis/environment.yml\n",
    "    !mamba install -y petsc4py=3.22.2 mpi4py pyoptsparse\n",
    "    %cd weis\n",
    "    !pip install .\n",
    "    %cd ..\n",
    "    !git clone https://github.com/mayankchetan/weisWorkshop-Private\n",
    "\n",
    "else:\n",
    "    try:\n",
    "        import weis\n",
    "    except ImportError:\n",
    "        raise ImportError(\"Please install the weis package from https://github.com/mayankchetan/weis in the environment you are using to run this notebook.\")\n",
    "    \n",
    "    Warning(\"Make sure you have cloned 'https://github.com/mayankchetan/weisWorkshop-Private' repository and are running the notebook from the root directory of the repository.\")\n",
    "\n",
    "\n"
   ]
  },
  {
   "cell_type": "markdown",
   "id": "f010422a",
   "metadata": {},
   "source": [
    "# Introduction\n",
    " > Write some info\n",
    "\n",
    "# Objectives\n",
    "You are assigned to design and optimize a 20MW Floating wind turbine with the following constriants.\n",
    "1. \n",
    "2. \n",
    "3. \n",
    "\n",
    "# The Approach \n",
    "1. Start with the IEA 22MW folating turbine. Establish a baseline \n",
    "2. Modify the rotor, try aero, structural and aero + structural optimization\n",
    "3. Optimize the controller to the updated rotor\n",
    "4. Optimize the substructure uisng RAFT\n",
    "5. Continue optimization using OpenFAST & OpenFAST+Controller\n",
    "6. Conduct a full DLC analysis"
   ]
  },
  {
   "cell_type": "code",
   "execution_count": 12,
   "id": "2d1a1fee",
   "metadata": {},
   "outputs": [],
   "source": [
    "# Importing nesscary libraries.\n",
    "import numpy as np\n",
    "import matplotlib.pyplot as plt\n",
    "from weis import weis_main\n",
    "from wisdem import run_wisdem\n",
    "import os\n",
    "import copy\n",
    "import pandas as pd\n",
    "\n",
    "# workshop repository folder\n",
    "WORKSHOP_REPO = '/projects/weis/mchetan/weis-workshop/workshopFiles'"
   ]
  },
  {
   "cell_type": "markdown",
   "id": "12ec3331",
   "metadata": {},
   "source": [
    "## Stage 0: Establishing a baseline\n",
    "\n",
    "We begin with establishing a baseline using an exisitng wind turbine model. Since we are desgining an 20MW model, lets start with the IEA 22MW turbine. "
   ]
  },
  {
   "cell_type": "code",
   "execution_count": null,
   "id": "9022e9a5",
   "metadata": {},
   "outputs": [],
   "source": [
    "# Setting up file paths\n",
    "stageFolder = \"stage-0-baseline\"\n",
    "\n",
    "fname_wt_input = os.path.join(WORKSHOP_REPO, \"source\", \"IEA-22-280-RWT_Floater.yaml\")\n",
    "fname_modeling_options = os.path.join(WORKSHOP_REPO, stageFolder, \"stage-0-baseline_modeling.yaml\")\n",
    "fname_analysis_options = os.path.join(WORKSHOP_REPO, stageFolder, \"stage-0-baseline_analysis.yaml\")\n",
    "\n",
    "#"
   ]
  },
  {
   "cell_type": "markdown",
   "id": "95fb7196",
   "metadata": {},
   "source": [
    "## Lets Open the input files and take a Look at them.\n",
    "### Google Colab Users:\n",
    "1. Go to the file browser on the left\n",
    "2. Navigate to the cloned repository\n",
    "3. Open the YAML files to examine the configuration\n",
    "\n",
    "## Turibne geometry file\n",
    "This file defines the trubine using the WindIO format. Currently we are using the v2.0 of WindIO. Lets take a look at the high level parts of the file.\n",
    "\n",
    "```yaml\n",
    "name: IEA 22MW Offshore Wind Turbine in Floating Configuration\n",
    "assembly:\n",
    "    turbine_class: I\n",
    "    turbulence_class: B\n",
    "    drivetrain: direct_drive\n",
    "    rotor_orientation: Upwind\n",
    "    number_of_blades: 3\n",
    "    hub_height: 170.0\n",
    "    rotor_diameter: 284.0\n",
    "    rated_power: 22000000.0\n",
    "    lifetime: 25.0\n",
    "components:\n",
    "  blade:\n",
    "    outer_shape_bem:\n",
    "      reference_axis:\n",
    "        x: { grid: [...], values: [...] }\n",
    "        y: { grid: [...], values: [...] }\n",
    "        z: { grid: [...], values: [...] }\n",
    "      chord: { grid: [...], values: [...] }\n",
    "      twist: { grid: [...], values: [...] }\n",
    "    internal_structure_2d_fem:\n",
    "      reference_axis: [...]\n",
    "      layers: [...]\n",
    "      webs: [...]\n",
    "  hub:\n",
    "    diameter: 7.94  # m\n",
    "    cone_angle: -2.5  # degrees\n",
    "    \n",
    "  nacelle:\n",
    "    drivetrain: [...]\n",
    "    transformer: [...]\n",
    "    \n",
    "  tower:\n",
    "    outer_shape_bem: [...]\n",
    "    internal_structure_2d_fem: [...]\n",
    "    \n",
    "  mooring:\n",
    "    nodes: [...]\n",
    "    lines: [...]\n",
    "airfoils: [...]\n",
    "materials: [...]\n",
    "controls: [...]\n",
    "environment: [...]\n",
    "bos: [...]\n",
    "costs: [...]\n",
    "```\n",
    "\n",
    "\n",
    "## analysis and modeling options\n",
    "These files define the analysis and modeling options for the WISDEM/WEIS\n",
    "\n",
    "### Analysis options\n",
    "```yaml\n",
    "general:\n",
    "    folder_output: outputs/\n",
    "    fname_output: stage-0-baseline\n",
    "```\n",
    "### Modeling options\n",
    "```yaml\n",
    "General:\n",
    "    verbosity: False\n",
    "\n",
    "WISDEM:\n",
    "    RotorSE:\n",
    "        flag: True\n",
    "    TowerSE:\n",
    "        flag: True\n",
    "    DriveSE:\n",
    "        flag: True\n",
    "    FloatingSE:\n",
    "        flag: True\n",
    "    BOS:\n",
    "        flag: True\n",
    "\n",
    "OpenFAST: # Options for WEIS fidelity level 3 = nonlinear time domain\n",
    "    flag: False\n",
    "\n",
    "RAFT:\n",
    "    flag: False\n",
    "\n",
    "ROSCO:\n",
    "    flag: True\n",
    "    tuning_yaml: ../source/iea22_rosco.yaml\n",
    "```\n"
   ]
  },
  {
   "cell_type": "code",
   "execution_count": 9,
   "id": "e9f06246",
   "metadata": {},
   "outputs": [
    {
     "name": "stderr",
     "output_type": "stream",
     "text": [
      "DeprecationWarning: /kfs2/projects/weis/mchetan/weis-workshop/env/weis-workshop-script1/lib/python3.12/site-packages/jsonmerge/__init__.py:27\n",
      "Accessing Draft4Validator.resolver is deprecated as of v4.18.0, in favor of the https://github.com/python-jsonschema/referencing library, which provides more compliant referencing behavior as well as more flexible APIs for customization./kfs2/projects/weis/mchetan/weis-workshop/env/weis-workshop-script1/lib/python3.12/site-packages/openmdao/core/driver.py:769: OpenMDAOWarning:Driver: No matches for pattern '*_df' in recording_options['excludes'].\n",
      "/kfs2/projects/weis/mchetan/weis-workshop/env/weis-workshop-script1/lib/python3.12/site-packages/openmdao/recorders/sqlite_recorder.py:231: UserWarning:The existing case recorder file, /projects/weis/mchetan/weis-workshop/workshopFiles/stage-0-baseline/outputs/log_opt.sql, is being overwritten.\n",
      "/kfs2/projects/weis/mchetan/weis-workshop/env/weis-workshop-script1/lib/python3.12/site-packages/openmdao/visualization/n2_viewer/n2_viewer.py:114: OpenMDAOWarning:All-NaN slice encountered\n"
     ]
    },
    {
     "name": "stdout",
     "output_type": "stream",
     "text": [
      "\n",
      "================\n",
      "wisdem.wt.wt_rna\n",
      "================\n"
     ]
    },
    {
     "name": "stderr",
     "output_type": "stream",
     "text": [
      "\u001b[00m\u001b[00m\u001b[00m"
     ]
    },
    {
     "name": "stdout",
     "output_type": "stream",
     "text": [
      "NL: NLBGS 1 ; 5.83474204e+11 1\n"
     ]
    },
    {
     "name": "stderr",
     "output_type": "stream",
     "text": [
      "\u001b[00m\u001b[00m\u001b[00m"
     ]
    },
    {
     "name": "stdout",
     "output_type": "stream",
     "text": [
      "NL: NLBGS 2 ; 28963702.2 4.96400732e-05\n"
     ]
    },
    {
     "name": "stderr",
     "output_type": "stream",
     "text": [
      "\u001b[00m\u001b[00m\u001b[00m"
     ]
    },
    {
     "name": "stdout",
     "output_type": "stream",
     "text": [
      "NL: NLBGS 3 ; 102078.295 1.74949114e-07\n"
     ]
    },
    {
     "name": "stderr",
     "output_type": "stream",
     "text": [
      "\u001b[00m\u001b[00m\u001b[00m"
     ]
    },
    {
     "name": "stdout",
     "output_type": "stream",
     "text": [
      "NL: NLBGS 4 ; 236.774411 4.05800993e-10\n",
      "NL: NLBGS Converged\n"
     ]
    },
    {
     "name": "stderr",
     "output_type": "stream",
     "text": [
      "\u001b[00m\u001b[00m\u001b[00mWARNING: Freq no. 8, x-dir: Mode numbder identified as 1 going into slot 2.  Skipping this mode.\n"
     ]
    },
    {
     "name": "stdout",
     "output_type": "stream",
     "text": [
      "ORBIT library intialized at '/kfs2/projects/weis/mchetan/weis-workshop/env/weis-workshop-script1/lib/python3.12/site-packages/library'\n",
      "Cp-Ct-Cq surfaces completed at 5 %\n",
      "Cp-Ct-Cq surfaces completed at 10 %\n",
      "Cp-Ct-Cq surfaces completed at 15 %\n",
      "Cp-Ct-Cq surfaces completed at 20 %\n",
      "Cp-Ct-Cq surfaces completed at 25 %\n",
      "Cp-Ct-Cq surfaces completed at 30 %\n",
      "Cp-Ct-Cq surfaces completed at 35 %\n",
      "Cp-Ct-Cq surfaces completed at 40 %\n",
      "Cp-Ct-Cq surfaces completed at 45 %\n",
      "Cp-Ct-Cq surfaces completed at 50 %\n",
      "Cp-Ct-Cq surfaces completed at 55 %\n",
      "Cp-Ct-Cq surfaces completed at 60 %\n",
      "Cp-Ct-Cq surfaces completed at 65 %\n",
      "Cp-Ct-Cq surfaces completed at 70 %\n",
      "Cp-Ct-Cq surfaces completed at 75 %\n",
      "Cp-Ct-Cq surfaces completed at 80 %\n",
      "Cp-Ct-Cq surfaces completed at 85 %\n",
      "Cp-Ct-Cq surfaces completed at 90 %\n",
      "Cp-Ct-Cq surfaces completed at 95 %\n",
      "Cp-Ct-Cq surfaces completed at 100 %\n",
      "-----------------------------------------------------------------------------\n",
      "   Tuning a reference wind turbine controller using NREL's ROSCO toolbox    \n",
      "-----------------------------------------------------------------------------\n",
      "WARNING: twr_freq and ptfm_freq should be defined for floating turbine control!!\n"
     ]
    },
    {
     "name": "stderr",
     "output_type": "stream",
     "text": [
      "DeprecationWarning: /kfs2/projects/weis/mchetan/weis-workshop/env/weis-workshop-script1/lib/python3.12/site-packages/jsonmerge/__init__.py:27\n",
      "Accessing Draft4Validator.resolver is deprecated as of v4.18.0, in favor of the https://github.com/python-jsonschema/referencing library, which provides more compliant referencing behavior as well as more flexible APIs for customization."
     ]
    },
    {
     "name": "stdout",
     "output_type": "stream",
     "text": [
      "----------------\n",
      "Design Variables\n",
      "----------------\n",
      "name  val  size  lower  upper  \n",
      "----  ---  ----  -----  ----- \n",
      "\n",
      "-----------\n",
      "Constraints\n",
      "-----------\n",
      "name  val  size  lower  upper  equals  \n",
      "----  ---  ----  -----  -----  ------ \n",
      "\n",
      "----------\n",
      "Objectives\n",
      "----------\n",
      "name  val  size  \n",
      "----  ---  ---- \n",
      "\n",
      "Run time (): 47.16603064537048\n"
     ]
    }
   ],
   "source": [
    "wt_opt, modeling_options, opt_options = weis_main(fname_wt_input, \n",
    "                                                 fname_modeling_options, \n",
    "                                                 fname_analysis_options,\n",
    "                                                 test_run=False\n",
    "                                                 )"
   ]
  },
  {
   "cell_type": "code",
   "execution_count": null,
   "id": "d797bf2c",
   "metadata": {},
   "outputs": [
    {
     "data": {
      "text/plain": [
       "Index(['sse_tune.v_min', 'sse_tune.v_max', 'sse_tune.r', 'sse_tune.chord',\n",
       "       'sse_tune.theta', 'sse_tune.Rhub', 'sse_tune.Rtip',\n",
       "       'sse_tune.hub_height', 'sse_tune.precone', 'sse_tune.tilt',\n",
       "       ...\n",
       "       'rotorse.rs.tot_loads_gust.Pz_af',\n",
       "       'rotorse.stall_check.no_stall_constraint',\n",
       "       'rotorse.stall_check.stall_angle_along_span', 'xf.span_start',\n",
       "       'xf.cl_interp_flaps', 'xf.cd_interp_flaps', 'xf.cm_interp_flaps',\n",
       "       'xf.flap_angles', 'xf.Re_loc', 'xf.Ma_loc'],\n",
       "      dtype='object', name='variables', length=4748)"
      ]
     },
     "execution_count": 13,
     "metadata": {},
     "output_type": "execute_result"
    }
   ],
   "source": [
    "# Lets analyize the baseline design!!\n",
    "baseline_turb = pd.read_csv(os.path.join(WORKSHOP_REPO, stageFolder, \"outputs/stage-0-baseline.csv\"), index_col=0)\n",
    "# Open the CSV file shown above so explore the various variables output from WISDEM/WEIS\n",
    "\n",
    "baseline_turb.index # there are 4748 variables!!"
   ]
  },
  {
   "cell_type": "markdown",
   "id": "31f7469d",
   "metadata": {},
   "source": [
    "As you can see from the listing the variables in the CSV files, WEIS outputs a lot of information about the wind turbine model/run.\n",
    "\n",
    "Lets look at a few of them to help us understand the baseline design.\n",
    "- rotorse.rp.powercurve.V --> Wind speed (m/s)\n",
    "- rotorse.rp.powercurve.Cp_aero --> Power Coefficient\n",
    "- rotorse.rp.powercurve.Ct_aero --> Thrust Coefficient\n",
    "- rotorse.rp.powercurve.P --> Power (W)\n",
    "- rotorse.rp.powercurve.T --> Thrust (N)\n",
    "- rotorse.rp.powercurve.pitch --> Pitch Angle (deg)"
   ]
  },
  {
   "cell_type": "code",
   "execution_count": null,
   "id": "a337aa4f",
   "metadata": {},
   "outputs": [],
   "source": []
  }
 ],
 "metadata": {
  "kernelspec": {
   "display_name": "Python 3",
   "language": "python",
   "name": "python3"
  },
  "language_info": {
   "codemirror_mode": {
    "name": "ipython",
    "version": 3
   },
   "file_extension": ".py",
   "mimetype": "text/x-python",
   "name": "python",
   "nbconvert_exporter": "python",
   "pygments_lexer": "ipython3",
   "version": "3.12.11"
  }
 },
 "nbformat": 4,
 "nbformat_minor": 5
}
